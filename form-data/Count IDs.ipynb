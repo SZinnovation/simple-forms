{
 "cells": [
  {
   "cell_type": "code",
   "execution_count": 4,
   "metadata": {},
   "outputs": [],
   "source": [
    "import yaml\n",
    "from glob import glob"
   ]
  },
  {
   "cell_type": "code",
   "execution_count": 8,
   "metadata": {
    "collapsed": true
   },
   "outputs": [],
   "source": [
    "open?"
   ]
  },
  {
   "cell_type": "code",
   "execution_count": 14,
   "metadata": {},
   "outputs": [
    {
     "data": {
      "text/plain": [
       "{'D1': 1,\n",
       " 'D10': 1,\n",
       " 'D11': 1,\n",
       " 'D12': 1,\n",
       " 'D13': 1,\n",
       " 'D14': 1,\n",
       " 'D15': 1,\n",
       " 'D16': 1,\n",
       " 'D17': 1,\n",
       " 'D18': 1,\n",
       " 'D19': 1,\n",
       " 'D2': 1,\n",
       " 'D20': 1,\n",
       " 'D3': 1,\n",
       " 'D4': 1,\n",
       " 'D5': 1,\n",
       " 'D6': 1,\n",
       " 'D7': 1,\n",
       " 'D8': 1,\n",
       " 'D9': 1,\n",
       " 'F1': 1,\n",
       " 'F2': 1,\n",
       " 'F3': 1,\n",
       " 'F4': 1,\n",
       " 'M1': 1,\n",
       " 'M2': 1,\n",
       " 'M3': 1,\n",
       " 'M4': 1,\n",
       " 'M5': 1,\n",
       " 'P1': 1,\n",
       " 'P2': 1,\n",
       " 'S1': 1,\n",
       " 'S2': 1,\n",
       " 'S3': 1,\n",
       " 'SZ-ID': 11,\n",
       " 'adhd1': 1,\n",
       " 'adhd10': 1,\n",
       " 'adhd11': 1,\n",
       " 'adhd12': 1,\n",
       " 'adhd13': 1,\n",
       " 'adhd14': 1,\n",
       " 'adhd15': 1,\n",
       " 'adhd16': 1,\n",
       " 'adhd17': 1,\n",
       " 'adhd18': 1,\n",
       " 'adhd2': 1,\n",
       " 'adhd3': 1,\n",
       " 'adhd4': 1,\n",
       " 'adhd5': 1,\n",
       " 'adhd6': 1,\n",
       " 'adhd7': 1,\n",
       " 'adhd8': 1,\n",
       " 'adhd9': 1,\n",
       " 'trouble': 1}"
      ]
     },
     "execution_count": 14,
     "metadata": {},
     "output_type": "execute_result"
    }
   ],
   "source": [
    "ids = {}\n",
    "\n",
    "for f in glob('*.yaml'):\n",
    "    with open(f, encoding='utf8') as in_yaml:\n",
    "        # We skip the first item, which is currently a button\n",
    "        for item in yaml.load(in_yaml):\n",
    "            if 'id' in item:\n",
    "                try:\n",
    "                    ids[item['id']] += 1\n",
    "                except KeyError:\n",
    "                    ids[item['id']] = 1\n",
    "                \n",
    "ids"
   ]
  },
  {
   "cell_type": "markdown",
   "metadata": {},
   "source": [
    "So, we have duplicates of the D items, and yet another for the D19. Should make \"overall\" variant \"DXXo\".)"
   ]
  }
 ],
 "metadata": {
  "kernelspec": {
   "display_name": "Python 3",
   "language": "python",
   "name": "python3"
  },
  "language_info": {
   "codemirror_mode": {
    "name": "ipython",
    "version": 3
   },
   "file_extension": ".py",
   "mimetype": "text/x-python",
   "name": "python",
   "nbconvert_exporter": "python",
   "pygments_lexer": "ipython3",
   "version": "3.6.1"
  }
 },
 "nbformat": 4,
 "nbformat_minor": 2
}
